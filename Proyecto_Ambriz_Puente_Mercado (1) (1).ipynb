{
 "cells": [
  {
   "cell_type": "markdown",
   "metadata": {},
   "source": [
    "  # <p align=\"center\"> PROYECTILES \n",
    "\n",
    "##  Simulación matemática\n",
    " <p align= ?center'>miss Adriana de Guadalupe Garcia Padilla\n",
    "\n",
    "### <span style=\"color:red\">   INTEGRANTES\n",
    "\n",
    "#### * <font color=\"green\">Jessica Ambriz\n",
    "#### * <font color=\"blue\">Kiara Puente\n",
    "#### * <font color=\"red\">Alejandro Mercado\n",
    "    \n",
    "![Imagen de proyectil](http://fisica.cubaeduca.cu/media/fisica.cubaeduca.cu/medias/interactividades/10proyectiles/res/ICI-21.jpg)"
   ]
  },
  {
   "cell_type": "markdown",
   "metadata": {},
   "source": [
    "### OBJETIVOS\n",
    "\n",
    "El objetivo general de este proyecto es predecir la curva que realizaria un proyectil.\n",
    "\n",
    "Mientras que el objetivo especifico es que mediante ecuaciones y diversas funciones, pronosticar la curva que realizaria un proyectil al ser lanzado haciendo asi mismo la grafica sea interact, aplicando el tema de las ecuaciones."
   ]
  },
  {
   "cell_type": "markdown",
   "metadata": {},
   "source": [
    "### Modelo que representa el problema\n",
    "\n",
    "$$\\frac{dx}{dt}=Vx$$\n",
    "$$\\frac{dVX}{dt}=0$$\n",
    "$$\\frac{dy}{dt}=Vy$$\n",
    "$$\\frac{dVy}{dt}=-g$$\n",
    "Deducimos que el modelo que utilizaremos para este proyecto es las posiciones en el tiempo\n",
    "la situacion representada en este modelo es el lanzamiento de un proyectil\n",
    "las limitaciones de este proyecto serian\n",
    "el significado y el valor de las variables es"
   ]
  },
  {
   "cell_type": "code",
   "execution_count": 1,
   "metadata": {},
   "outputs": [],
   "source": [
    "import numpy as np\n",
    "import matplotlib.pyplot as plt\n",
    "from scipy.integrate import odeint"
   ]
  },
  {
   "cell_type": "code",
   "execution_count": 8,
   "metadata": {},
   "outputs": [],
   "source": [
    "# Definimos los parámetros \n",
    "#z = x, Vx, y, Vy\n",
    "V0 = 40\n",
    "theta0=np.pi/4\n",
    "g= -9.81\n",
    "# Función f(y,t) que vamos a integrar\n",
    "def proyectil (z, t, g):\n",
    "    x=z[0]\n",
    "    Vx=z[1]\n",
    "    y=z[2]\n",
    "    Vy= z[3]\n",
    "    return np.array([Vx, 0, Vy, g ])\n",
    "\n",
    "# Condiciones iniciales\n",
    "z0 = np.array([0,V0*np.cos(theta0),0,V0*np.sin(theta0)])\n",
    "\n",
    "# Especificamos los puntos de tiempo donde queremos la solución\n",
    "t = np.linspace(0, 8, 100)\n",
    "\n",
    "#Solución numérica\n",
    "z = odeint (proyectil,  z0,  t,  args=(g,))"
   ]
  },
  {
   "cell_type": "code",
   "execution_count": 9,
   "metadata": {},
   "outputs": [
    {
     "data": {
      "text/plain": [
       "array([[  0.        ,  28.28427125,   0.        ,  28.28427125],\n",
       "       [  2.28559768,  28.28427125,   2.25356829,  27.49154397],\n",
       "       [  4.57119535,  28.28427125,   4.44307781,  26.6988167 ],\n",
       "       [  6.85679303,  28.28427125,   6.56852857,  25.90608943],\n",
       "       [  9.14239071,  28.28427125,   8.62992055,  25.11336216],\n",
       "       [ 11.42798838,  28.28427125,  10.62725376,  24.32063488],\n",
       "       [ 13.71358606,  28.28427125,  12.56052821,  23.52790761],\n",
       "       [ 15.99918374,  28.28427125,  14.42974388,  22.73518034],\n",
       "       [ 18.28478141,  28.28427125,  16.23490079,  21.94245307],\n",
       "       [ 20.57037909,  28.28427125,  17.97599892,  21.14972579],\n",
       "       [ 22.85597677,  28.28427125,  19.65303829,  20.35699852],\n",
       "       [ 25.14157444,  28.28427125,  21.26601889,  19.56427125],\n",
       "       [ 27.42717212,  28.28427125,  22.81494071,  18.77154397],\n",
       "       [ 29.7127698 ,  28.28427125,  24.29980377,  17.9788167 ],\n",
       "       [ 31.99836747,  28.28427125,  25.72060806,  17.18608943],\n",
       "       [ 34.28396515,  28.28427125,  27.07735358,  16.39336216],\n",
       "       [ 36.56956283,  28.28427125,  28.37004033,  15.60063488],\n",
       "       [ 38.8551605 ,  28.28427125,  29.59866831,  14.80790761],\n",
       "       [ 41.14075818,  28.28427125,  30.76323752,  14.01518034],\n",
       "       [ 43.42635585,  28.28427125,  31.86374796,  13.22245307],\n",
       "       [ 45.71195353,  28.28427125,  32.90019963,  12.42972579],\n",
       "       [ 47.99755121,  28.28427125,  33.87259253,  11.63699852],\n",
       "       [ 50.28314888,  28.28427125,  34.78092666,  10.84427125],\n",
       "       [ 52.56874656,  28.28427125,  35.62520202,  10.05154397],\n",
       "       [ 54.85434424,  28.28427125,  36.40541862,   9.2588167 ],\n",
       "       [ 57.13994191,  28.28427125,  37.12157644,   8.46608943],\n",
       "       [ 59.42553959,  28.28427125,  37.77367549,   7.67336216],\n",
       "       [ 61.71113727,  28.28427125,  38.36171578,   6.88063488],\n",
       "       [ 63.99673494,  28.28427125,  38.88569729,   6.08790761],\n",
       "       [ 66.28233262,  28.28427125,  39.34562004,   5.29518034],\n",
       "       [ 68.5679303 ,  28.28427125,  39.74148402,   4.50245307],\n",
       "       [ 70.85352797,  28.28427125,  40.07328922,   3.70972579],\n",
       "       [ 73.13912565,  28.28427125,  40.34103566,   2.91699852],\n",
       "       [ 75.42472333,  28.28427125,  40.54472333,   2.12427125],\n",
       "       [ 77.710321  ,  28.28427125,  40.68435222,   1.33154397],\n",
       "       [ 79.99591868,  28.28427125,  40.75992235,   0.5388167 ],\n",
       "       [ 82.28151636,  28.28427125,  40.77143371,  -0.25391057],\n",
       "       [ 84.56711403,  28.28427125,  40.7188863 ,  -1.04663784],\n",
       "       [ 86.85271171,  28.28427125,  40.60228012,  -1.83936512],\n",
       "       [ 89.13830939,  28.28427125,  40.42161517,  -2.63209239],\n",
       "       [ 91.42390706,  28.28427125,  40.17689145,  -3.42481966],\n",
       "       [ 93.70950474,  28.28427125,  39.86810896,  -4.21754693],\n",
       "       [ 95.99510242,  28.28427125,  39.4952677 ,  -5.01027421],\n",
       "       [ 98.28070009,  28.28427125,  39.05836768,  -5.80300148],\n",
       "       [100.56629777,  28.28427125,  38.55740888,  -6.59572875],\n",
       "       [102.85189545,  28.28427125,  37.99239131,  -7.38845603],\n",
       "       [105.13749312,  28.28427125,  37.36331498,  -8.1811833 ],\n",
       "       [107.4230908 ,  28.28427125,  36.67017987,  -8.97391057],\n",
       "       [109.70868848,  28.28427125,  35.912986  ,  -9.76663784],\n",
       "       [111.99428615,  28.28427125,  35.09173335, -10.55936512],\n",
       "       [114.27988383,  28.28427125,  34.20642194, -11.35209239],\n",
       "       [116.5654815 ,  28.28427125,  33.25705175, -12.14481966],\n",
       "       [118.85107918,  28.28427125,  32.2436228 , -12.93754693],\n",
       "       [121.13667686,  28.28427125,  31.16613508, -13.73027421],\n",
       "       [123.42227453,  28.28427125,  30.02458858, -14.52300148],\n",
       "       [125.70787221,  28.28427125,  28.81898332, -15.31572875],\n",
       "       [127.99346989,  28.28427125,  27.54931929, -16.10845603],\n",
       "       [130.27906756,  28.28427125,  26.21559649, -16.9011833 ],\n",
       "       [132.56466524,  28.28427125,  24.81781492, -17.69391057],\n",
       "       [134.85026292,  28.28427125,  23.35597458, -18.48663784],\n",
       "       [137.13586059,  28.28427125,  21.83007547, -19.27936512],\n",
       "       [139.42145827,  28.28427125,  20.24011759, -20.07209239],\n",
       "       [141.70705595,  28.28427125,  18.58610094, -20.86481966],\n",
       "       [143.99265362,  28.28427125,  16.86802552, -21.65754693],\n",
       "       [146.2782513 ,  28.28427125,  15.08589134, -22.45027421],\n",
       "       [148.56384898,  28.28427125,  13.23969838, -23.24300148],\n",
       "       [150.84944665,  28.28427125,  11.32944665, -24.03572875],\n",
       "       [153.13504433,  28.28427125,   9.35513616, -24.82845603],\n",
       "       [155.42064201,  28.28427125,   7.31676689, -25.6211833 ],\n",
       "       [157.70623968,  28.28427125,   5.21433886, -26.41391057],\n",
       "       [159.99183736,  28.28427125,   3.04785205, -27.20663784],\n",
       "       [162.27743504,  28.28427125,   0.81730648, -27.99936512],\n",
       "       [164.56303271,  28.28427125,  -1.47729787, -28.79209239],\n",
       "       [166.84863039,  28.28427125,  -3.83596098, -29.58481966],\n",
       "       [169.13422807,  28.28427125,  -6.25868286, -30.37754693],\n",
       "       [171.41982574,  28.28427125,  -8.74546351, -31.17027421],\n",
       "       [173.70542342,  28.28427125, -11.29630294, -31.96300148],\n",
       "       [175.9910211 ,  28.28427125, -13.91120113, -32.75572875],\n",
       "       [178.27661877,  28.28427125, -16.59015809, -33.54845603],\n",
       "       [180.56221645,  28.28427125, -19.33317382, -34.3411833 ],\n",
       "       [182.84781413,  28.28427125, -22.14024832, -35.13391057],\n",
       "       [185.1334118 ,  28.28427125, -25.01138159, -35.92663784],\n",
       "       [187.41900948,  28.28427125, -27.94657363, -36.71936512],\n",
       "       [189.70460715,  28.28427125, -30.94582443, -37.51209239],\n",
       "       [191.99020483,  28.28427125, -34.00913401, -38.30481966],\n",
       "       [194.27580251,  28.28427125, -37.13650236, -39.09754693],\n",
       "       [196.56140018,  28.28427125, -40.32792948, -39.89027421],\n",
       "       [198.84699786,  28.28427125, -43.58341536, -40.68300148],\n",
       "       [201.13259554,  28.28427125, -46.90296002, -41.47572875],\n",
       "       [203.41819321,  28.28427125, -50.28656344, -42.26845603],\n",
       "       [205.70379089,  28.28427125, -53.73422564, -43.0611833 ],\n",
       "       [207.98938857,  28.28427125, -57.2459466 , -43.85391057],\n",
       "       [210.27498624,  28.28427125, -60.82172634, -44.64663784],\n",
       "       [212.56058392,  28.28427125, -64.46156484, -45.43936512],\n",
       "       [214.8461816 ,  28.28427125, -68.16546211, -46.23209239],\n",
       "       [217.13177927,  28.28427125, -71.93341816, -47.02481966],\n",
       "       [219.41737695,  28.28427125, -75.76543297, -47.81754693],\n",
       "       [221.70297463,  28.28427125, -79.66150655, -48.61027421],\n",
       "       [223.9885723 ,  28.28427125, -83.6216389 , -49.40300148],\n",
       "       [226.27416998,  28.28427125, -87.64583002, -50.19572875]])"
      ]
     },
     "execution_count": 9,
     "metadata": {},
     "output_type": "execute_result"
    }
   ],
   "source": [
    "z"
   ]
  },
  {
   "cell_type": "code",
   "execution_count": 13,
   "metadata": {},
   "outputs": [
    {
     "data": {
      "image/png": "[encoded data removed]",
      "text/plain": [
       "<Figure size 432x288 with 1 Axes>"
      ]
     },
     "metadata": {},
     "output_type": "display_data"
    }
   ],
   "source": [
    "# Librerías para gráficos\n",
    "import matplotlib.pyplot as plt\n",
    "# Para que se muestren las gráficas en la misma ventana\n",
    "%matplotlib inline\n",
    "# Librería para widgets de jupyter\n",
    "from ipywidgets import *\n",
    "\n",
    "\n",
    "plt.scatter(z[:,0], z[:,2], )\n",
    "plt.title(\"Proyectil\")\n",
    "plt.ylabel(\"Altura $h$\", fontsize=12)\n",
    "plt.xlabel(\"Distancia $d$\", fontsize=12)\n",
    "plt.xlim([0, 175])\n",
    "plt.ylim([0,43])\n",
    "plt.grid()"
   ]
  },
  {
   "cell_type": "markdown",
   "metadata": {},
   "source": [
    "#### Podemos ver que la altura máxima que alcanza es 41 metros y esta la alcanza en los 80 metros"
   ]
  },
  {
   "cell_type": "code",
   "execution_count": 16,
   "metadata": {},
   "outputs": [
    {
     "data": {
      "application/vnd.jupyter.widget-view+json": {
       "model_id": "478c55ed298c4fc89cf71a48388ade7c",
       "version_major": 2,
       "version_minor": 0
      },
      "text/plain": [
       "interactive(children=(FloatSlider(value=0.0, description='V0', step=0.01), Button(description='Run Interact', …"
      ]
     },
     "metadata": {},
     "output_type": "display_data"
    }
   ],
   "source": [
    "def proyectilmov(V0= 0):    \n",
    "    z0 = np.array([0,V0*np.cos(theta0),0,V0*np.sin(theta0)])   \n",
    "    \n",
    "    fig = plt.figure()\n",
    "    ax = fig.add_subplot(1, 1, 1)\n",
    "    z = odeint (proyectil,  z0,  t,  args=(g,))\n",
    "    ax.plot(z[:,0],z[:, 2],  'ko', ms = 1.5)\n",
    "    ax.set_xlim(xmin = 0, xmax = 200)\n",
    "    ax.set_ylim(ymin = 0, ymax = 50)\n",
    "    ax.axvline(x=0, color = 'g', lw=3)\n",
    "    ax.axhline(y=0, color = 'r', lw = 2)\n",
    "    fig.canvas.draw()\n",
    "    \n",
    "interact_manual(proyectilmov, V0 = (0, 100,.01));"
   ]
  },
  {
   "cell_type": "markdown",
   "metadata": {},
   "source": [
    "#### Con el interact anterior podemos ver como varía la curva dependiendo de la velocidad inicial con la que se lance el proyectil y por lo tanto sabemos su altura máxima y su alcance. "
   ]
  },
  {
   "cell_type": "markdown",
   "metadata": {},
   "source": [
    "#### <font color=\"green\"> Estuvimos investigando y con varios cálculos, ya comprobados, podemos ver que la theta óptima para que el tiro del proyectil, en este caso, llegue lo más lejos posible y dure el más tiempo en el aire es de $pi/4$.\n",
    "#### <font color=\"green\"> De todas maneras vamos a realizar unas gráficas abajo con la misma $V0$, para comprobarlo de manera visual."
   ]
  },
  {
   "cell_type": "code",
   "execution_count": 26,
   "metadata": {},
   "outputs": [],
   "source": [
    "# Definimos los parámetros \n",
    "#z = x, Vx, y, Vy\n",
    "V0 = 40\n",
    "theta0=np.pi\n",
    "g= -9.81\n",
    "# Función f(y,t) que vamos a integrar\n",
    "def proyectil (z, t, g):\n",
    "    x=z[0]\n",
    "    Vx=z[1]\n",
    "    y=z[2]\n",
    "    Vy= z[3]\n",
    "    return np.array([Vx, 0, Vy, g ])\n",
    "\n",
    "# Condiciones iniciales\n",
    "z0 = np.array([0,V0*np.cos(theta0),0,V0*np.sin(theta0)])\n",
    "\n",
    "# Especificamos los puntos de tiempo donde queremos la solución\n",
    "t = np.linspace(0, 10000, 10000)\n",
    "\n",
    "#Solución numérica\n",
    "z = odeint (proyectil,  z0,  t,  args=(g,))\n",
    "\n",
    "z1 = z[:,0]\n",
    "z2 = z[:,2]"
   ]
  },
  {
   "cell_type": "code",
   "execution_count": 27,
   "metadata": {},
   "outputs": [],
   "source": [
    "# Definimos los parámetros \n",
    "#z = x, Vx, y, Vy\n",
    "V0 = 40\n",
    "theta0=np.pi/2\n",
    "g= -9.81\n",
    "# Función f(y,t) que vamos a integrar\n",
    "def proyectil (z, t, g):\n",
    "    x=z[0]\n",
    "    Vx=z[1]\n",
    "    y=z[2]\n",
    "    Vy= z[3]\n",
    "    return np.array([Vx, 0, Vy, g ])\n",
    "\n",
    "# Condiciones iniciales\n",
    "z0 = np.array([0,V0*np.cos(theta0),0,V0*np.sin(theta0)])\n",
    "\n",
    "# Especificamos los puntos de tiempo donde queremos la solución\n",
    "t = np.linspace(0, 1000, 10000)\n",
    "\n",
    "#Solución numérica\n",
    "z = odeint (proyectil,  z0,  t,  args=(g,))\n",
    "\n",
    "z3 = z[:,0]\n",
    "z4 = z[:,2]"
   ]
  },
  {
   "cell_type": "code",
   "execution_count": 28,
   "metadata": {},
   "outputs": [],
   "source": [
    "# Definimos los parámetros \n",
    "#z = x, Vx, y, Vy\n",
    "V0 = 40\n",
    "theta0=np.pi/3\n",
    "g= -9.81\n",
    "# Función f(y,t) que vamos a integrar\n",
    "def proyectil (z, t, g):\n",
    "    x=z[0]\n",
    "    Vx=z[1]\n",
    "    y=z[2]\n",
    "    Vy= z[3]\n",
    "    return np.array([Vx, 0, Vy, g ])\n",
    "\n",
    "# Condiciones iniciales\n",
    "z0 = np.array([0,V0*np.cos(theta0),0,V0*np.sin(theta0)])\n",
    "\n",
    "# Especificamos los puntos de tiempo donde queremos la solución\n",
    "t = np.linspace(0, 1000, 1000)\n",
    "\n",
    "#Solución numérica\n",
    "z = odeint (proyectil,  z0,  t,  args=(g,))\n",
    "\n",
    "z5 = z[:,0]\n",
    "z6 = z[:,2]"
   ]
  },
  {
   "cell_type": "code",
   "execution_count": 30,
   "metadata": {},
   "outputs": [
    {
     "data": {
      "image/png": "[encoded data removed]",
      "text/plain": [
       "<Figure size 720x432 with 3 Axes>"
      ]
     },
     "metadata": {},
     "output_type": "display_data"
    }
   ],
   "source": [
    "fig, ((ax1, ax2, ax3)) = plt.subplots(1, 3, sharex='col',\n",
    "                                                       sharey='row',figsize =(10,6))\n",
    "ax1.plot(z1, z2, c = 'k') \n",
    "ax1.set_title('theta0 = np.pi', fontsize = 14)\n",
    "ax1.set_xlabel('Distancia', fontsize = 14)\n",
    "ax1.set_xlim([-300, 300])\n",
    "ax1.set_ylim([-50, 100])\n",
    "ax2.plot(z3, z4, c = 'b') \n",
    "ax2.set_title('theta =np.pi/3', fontsize = 14)\n",
    "ax2.set_xlabel('Distancia', fontsize = 14)\n",
    "ax2.set_xlim([-175, 175])\n",
    "ax2.set_ylim([-50, 100])\n",
    "ax3.plot(z5, z6, c = 'r') \n",
    "ax3.set_title('theta =np.pi/2', fontsize = 14)\n",
    "ax3.set_xlabel('Distancia', fontsize = 14)\n",
    "ax3.set_xlim([-175, 175])\n",
    "ax3.set_ylim([-50, 100])\n",
    "\n",
    "plt.show()"
   ]
  },
  {
   "cell_type": "markdown",
   "metadata": {},
   "source": [
    "#### <font color=\"green\"> Como podemos observar en las gráficas anteriores en dos de ellas no se pueden ver los parámetros ya que son menores que el 0 y eso no tiene sentido y en la última vemos que tiene un ascenso muy rápido y vertical y por lo tanto una caida más rápida y permane menos tiempo en el aire "
   ]
  },
  {
   "cell_type": "code",
   "execution_count": 31,
   "metadata": {},
   "outputs": [],
   "source": [
    "# Definimos los parámetros \n",
    "#z = x, Vx, y, Vy\n",
    "V0 = 5\n",
    "theta0=np.pi/4\n",
    "g= -9.81\n",
    "# Función f(y,t) que vamos a integrar\n",
    "def proyectil (z, t, g):\n",
    "    x=z[0]\n",
    "    Vx=z[1]\n",
    "    y=z[2]\n",
    "    Vy= z[3]\n",
    "    return np.array([Vx, 0, Vy, g ])\n",
    "\n",
    "# Condiciones iniciales\n",
    "z0 = np.array([0,V0*np.cos(theta0),0,V0*np.sin(theta0)])\n",
    "\n",
    "# Especificamos los puntos de tiempo donde queremos la solución\n",
    "t = np.linspace(0, 8, 10)\n",
    "\n",
    "#Solución numérica\n",
    "z = odeint (proyectil,  z0,  t,  args=(g,))\n",
    "\n",
    "z1 = z[:,0]\n",
    "z2 = z[:,2]"
   ]
  },
  {
   "cell_type": "code",
   "execution_count": 36,
   "metadata": {},
   "outputs": [],
   "source": [
    "# Definimos los parámetros \n",
    "#z = x, Vx, y, Vy\n",
    "V0 = 60\n",
    "theta0=np.pi/4\n",
    "g= -9.81\n",
    "# Función f(y,t) que vamos a integrar\n",
    "def proyectil (z, t, g):\n",
    "    x=z[0]\n",
    "    Vx=z[1]\n",
    "    y=z[2]\n",
    "    Vy= z[3]\n",
    "    return np.array([Vx, 0, Vy, g ])\n",
    "\n",
    "# Condiciones iniciales\n",
    "z0 = np.array([0,V0*np.cos(theta0),0,V0*np.sin(theta0)])\n",
    "\n",
    "# Especificamos los puntos de tiempo donde queremos la solución\n",
    "t = np.linspace(0, 100, 250)\n",
    "\n",
    "#Solución numérica\n",
    "z = odeint (proyectil,  z0,  t,  args=(g,))\n",
    "\n",
    "z3 = z[:,0]\n",
    "z4 = z[:,2]"
   ]
  },
  {
   "cell_type": "code",
   "execution_count": 37,
   "metadata": {},
   "outputs": [],
   "source": [
    "# Definimos los parámetros \n",
    "#z = x, Vx, y, Vy\n",
    "V0 = 100\n",
    "theta0=np.pi/4\n",
    "g= -9.81\n",
    "# Función f(y,t) que vamos a integrar\n",
    "def proyectil (z, t, g):\n",
    "    x=z[0]\n",
    "    Vx=z[1]\n",
    "    y=z[2]\n",
    "    Vy= z[3]\n",
    "    return np.array([Vx, 0, Vy, g ])\n",
    "\n",
    "# Condiciones iniciales\n",
    "z0 = np.array([0,V0*np.cos(theta0),0,V0*np.sin(theta0)])\n",
    "\n",
    "# Especificamos los puntos de tiempo donde queremos la solución\n",
    "t = np.linspace(0, 500, 500)\n",
    "\n",
    "#Solución numérica\n",
    "z = odeint (proyectil,  z0,  t,  args=(g,))\n",
    "\n",
    "z5 = z[:,0]\n",
    "z6 = z[:,2]"
   ]
  },
  {
   "cell_type": "code",
   "execution_count": 38,
   "metadata": {},
   "outputs": [],
   "source": [
    "# Definimos los parámetros \n",
    "#z = x, Vx, y, Vy\n",
    "V0 = 200\n",
    "theta0=np.pi/4\n",
    "g= -9.81\n",
    "# Función f(y,t) que vamos a integrar\n",
    "def proyectil (z, t, g):\n",
    "    x=z[0]\n",
    "    Vx=z[1]\n",
    "    y=z[2]\n",
    "    Vy= z[3]\n",
    "    return np.array([Vx, 0, Vy, g ])\n",
    "\n",
    "# Condiciones iniciales\n",
    "z0 = np.array([0,V0*np.cos(theta0),0,V0*np.sin(theta0)])\n",
    "\n",
    "# Especificamos los puntos de tiempo donde queremos la solución\n",
    "t = np.linspace(0, 800, 1000)\n",
    "\n",
    "#Solución numérica\n",
    "z = odeint (proyectil,  z0,  t,  args=(g,))\n",
    "\n",
    "z7 = z[:,0]\n",
    "z8 = z[:,2]"
   ]
  },
  {
   "cell_type": "code",
   "execution_count": 40,
   "metadata": {},
   "outputs": [
    {
     "data": {
      "image/png": "[encoded data removed]",
      "text/plain": [
       "<Figure size 720x576 with 4 Axes>"
      ]
     },
     "metadata": {},
     "output_type": "display_data"
    }
   ],
   "source": [
    "fig, ((ax1, ax2, ax3, ax4)) = plt.subplots(4, 1, sharex='col',\n",
    "                                                       sharey='row',figsize =(10,8))\n",
    "ax1.scatter(z1, z2, c = 'k') \n",
    "ax1.set_title('V0=5', fontsize = 14)\n",
    "ax1.set_xlim([0, 10])\n",
    "ax1.set_ylim([0, 1])\n",
    "ax2.scatter(z3, z4, c = 'b') \n",
    "ax2.set_title('V0=60', fontsize = 14)\n",
    "ax2.set_xlim([0, 400])\n",
    "ax2.set_ylim([0, 110])\n",
    "ax3.scatter(z5, z6, c = 'r') \n",
    "ax3.set_title('V0=100', fontsize = 14)\n",
    "ax3.set_xlim([0, 500])\n",
    "ax3.set_ylim([0, 500])\n",
    "ax4.scatter(z7, z8, c = 'g') \n",
    "ax4.set_title('V0=200', fontsize = 14)\n",
    "ax4.set_xlabel('Tiempo', fontsize = 14)\n",
    "ax4.set_xlim([0, 4100])\n",
    "ax4.set_ylim([0, 1200])\n",
    "\n",
    "plt.show()"
   ]
  },
  {
   "cell_type": "markdown",
   "metadata": {},
   "source": [
    "#### Como podemos ver después de observar estas gráficas y en el interact de arriba, conforme lo lanzamos con más velocidad, la distancia que recorre es mayor."
   ]
  },
  {
   "cell_type": "markdown",
   "metadata": {},
   "source": [
    "#### En el sentido horizontal solo actúa la componente horizontal de la velocidad inicial en forma constante. En sentido vertical actúa la componente vertical de la velocidad inicial en forma constante y la aceleración de la gravedad. \n",
    "#### En sentido horizontal tenemos un movimiento rectilíneo uniforme y en sentido vertical tenemos un movimiento rectilíneo uniformemente acelerado.       En este proyecto se obtuvo ayuda de compañeros que ya cursaron este curso ya que se nos dificulto un poco a la hora de codificar, pero al final se obtuvo el resultado que se deseaba."
   ]
  }
 ],
 "metadata": {
  "kernelspec": {
   "display_name": "Python 3",
   "language": "python",
   "name": "python3"
  },
  "language_info": {
   "codemirror_mode": {
    "name": "ipython",
    "version": 3
   },
   "file_extension": ".py",
   "mimetype": "text/x-python",
   "name": "python",
   "nbconvert_exporter": "python",
   "pygments_lexer": "ipython3",
   "version": "3.7.0"
  }
 },
 "nbformat": 4,
 "nbformat_minor": 2
}
